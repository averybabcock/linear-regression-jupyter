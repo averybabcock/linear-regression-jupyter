{
 "cells": [
  {
   "cell_type": "markdown",
   "id": "aebffafa-b447-4da8-802a-eead70b24581",
   "metadata": {},
   "source": [
    "This notebook demonstrates a simple linear regression analysis using R to model Salary based on Years of Experience."
   ]
  },
  {
   "cell_type": "code",
   "execution_count": 2,
   "id": "3f2323fe-c3d6-4727-81b4-bc530dd83b25",
   "metadata": {},
   "outputs": [
    {
     "ename": "ERROR",
     "evalue": "Error: Usage: Rscript linear_regression_Assignment3_r.R <filename> <x_column> <y_column>\n",
     "output_type": "error",
     "traceback": [
      "Error: Usage: Rscript linear_regression_Assignment3_r.R <filename> <x_column> <y_column>\nTraceback:\n",
      "1. .handleSimpleError(function (cnd) \n . {\n .     watcher$capture_plot_and_output()\n .     cnd <- sanitize_call(cnd)\n .     watcher$push(cnd)\n .     switch(on_error, continue = invokeRestart(\"eval_continue\"), \n .         stop = invokeRestart(\"eval_stop\"), error = NULL)\n . }, \"Usage: Rscript linear_regression_Assignment3_r.R <filename> <x_column> <y_column>\", \n .     base::quote(eval(expr, envir)))"
     ]
    }
   ],
   "source": [
    "library(ggplot2)\n",
    "args <- commandArgs(trailingOnly = TRUE)\n",
    "if (length(args) != 3) {\n",
    "  stop(\"Usage: Rscript linear_regression_Assignment3_r.R <filename> <x_column> <y_column>\")\n",
    "}"
   ]
  },
  {
   "cell_type": "code",
   "execution_count": 7,
   "id": "b48a93c7-4280-403e-a086-537f50a0f78e",
   "metadata": {},
   "outputs": [],
   "source": [
    "filename <- args[1]\n",
    "x_col <- args[2]\n",
    "y_col <- args[3]"
   ]
  },
  {
   "cell_type": "code",
   "execution_count": 8,
   "id": "11d63b4d-be3a-454f-a640-2daa8e8753c0",
   "metadata": {
    "scrolled": true
   },
   "outputs": [
    {
     "ename": "ERROR",
     "evalue": "Error in terms.formula(formula, data = data): invalid term in model formula\n",
     "output_type": "error",
     "traceback": [
      "Error in terms.formula(formula, data = data): invalid term in model formula\nTraceback:\n",
      "1. eval(mf, parent.frame())",
      "2. eval(mf, parent.frame())",
      "3. stats::model.frame(formula = formula, data = data, drop.unused.levels = TRUE)",
      "4. model.frame.default(formula = formula, data = data, drop.unused.levels = TRUE)",
      "5. terms(formula, data = data)",
      "6. terms.formula(formula, data = data)",
      "7. .handleSimpleError(function (cnd) \n . {\n .     watcher$capture_plot_and_output()\n .     cnd <- sanitize_call(cnd)\n .     watcher$push(cnd)\n .     switch(on_error, continue = invokeRestart(\"eval_continue\"), \n .         stop = invokeRestart(\"eval_stop\"), error = NULL)\n . }, \"invalid term in model formula\", base::quote(terms.formula(formula, \n .     data = data)))"
     ]
    }
   ],
   "source": [
    "data <- read.csv(filename)\n",
    "formula <- as.formula(paste(y_col, \"~\", x_col))\n",
    "model <- lm(formula, data = data)"
   ]
  },
  {
   "cell_type": "code",
   "execution_count": 10,
   "id": "d63b2d20-3073-496c-a93c-c8e28fca72bf",
   "metadata": {},
   "outputs": [
    {
     "ename": "ERROR",
     "evalue": "Error in as_string(x = x_col, y = y_col): could not find function \"as_string\"\n",
     "output_type": "error",
     "traceback": [
      "Error in as_string(x = x_col, y = y_col): could not find function \"as_string\"\nTraceback:\n",
      "1. ggplot.default(data, as_string(x = x_col, y = y_col))",
      "2. is_mapping(mapping)",
      "3. .handleSimpleError(function (cnd) \n . {\n .     watcher$capture_plot_and_output()\n .     cnd <- sanitize_call(cnd)\n .     watcher$push(cnd)\n .     switch(on_error, continue = invokeRestart(\"eval_continue\"), \n .         stop = invokeRestart(\"eval_stop\"), error = NULL)\n . }, \"could not find function \\\"as_string\\\"\", base::quote(as_string(x = x_col, \n .     y = y_col)))"
     ]
    }
   ],
   "source": [
    "library(ggplot2)\n",
    "plot <- ggplot(data, as_string(x = x_col, y = y_col)) +\n",
    "  geom_point(color = \"red\") +\n",
    "  geom_smooth(method = \"lm\", color = \"blue\") +\n",
    "  ggtitle(paste(y_col, \"vs\", x_col)) +\n",
    "  xlab(x_col) +\n",
    "  ylab(y_col)"
   ]
  },
  {
   "cell_type": "code",
   "execution_count": 5,
   "id": "4a760dca-97fd-451f-84be-e1b535787424",
   "metadata": {},
   "outputs": [
    {
     "ename": "ERROR",
     "evalue": "Error in model.frame.default(formula = y ~ x, data = df, drop.unused.levels = TRUE): 'data' must be a data.frame, environment, or list\n",
     "output_type": "error",
     "traceback": [
      "Error in model.frame.default(formula = y ~ x, data = df, drop.unused.levels = TRUE): 'data' must be a data.frame, environment, or list\nTraceback:\n",
      "1. eval(mf, parent.frame())",
      "2. eval(mf, parent.frame())",
      "3. stats::model.frame(formula = y ~ x, data = df, drop.unused.levels = TRUE)",
      "4. model.frame.default(formula = y ~ x, data = df, drop.unused.levels = TRUE)",
      "5. stop(\"'data' must be a data.frame, environment, or list\")",
      "6. .handleSimpleError(function (cnd) \n . {\n .     watcher$capture_plot_and_output()\n .     cnd <- sanitize_call(cnd)\n .     watcher$push(cnd)\n .     switch(on_error, continue = invokeRestart(\"eval_continue\"), \n .         stop = invokeRestart(\"eval_stop\"), error = NULL)\n . }, \"'data' must be a data.frame, environment, or list\", base::quote(model.frame.default(formula = y ~ \n .     x, data = df, drop.unused.levels = TRUE)))"
     ]
    }
   ],
   "source": [
    "model <- lm(y ~ x, data = df)\n",
    "slope <- coef(model)[2]\n",
    "intercept <- coef(model)[1]\n",
    "r <- cor(df$x, df$y)\n",
    "pred <- predict(model)\n",
    "mse <- mean((df$y - pred)^2)"
   ]
  },
  {
   "cell_type": "code",
   "execution_count": 3,
   "id": "23feaf65-1be5-4564-b248-299d4a8440e7",
   "metadata": {
    "jupyter": {
     "source_hidden": true
    },
    "scrolled": true
   },
   "outputs": [
    {
     "ename": "ERROR",
     "evalue": "\u001b[1m\u001b[33mError\u001b[39m in `ggplot()`:\u001b[22m\n\u001b[1m\u001b[22m\u001b[33m!\u001b[39m `data` cannot be a function.\n\u001b[36mℹ\u001b[39m Have you misspelled the `data` argument in `ggplot()`\n",
     "output_type": "error",
     "traceback": [
      "\u001b[1m\u001b[33mError\u001b[39m in `ggplot()`:\u001b[22m\n\u001b[1m\u001b[22m\u001b[33m!\u001b[39m `data` cannot be a function.\n\u001b[36mℹ\u001b[39m Have you misspelled the `data` argument in `ggplot()`\nTraceback:\n",
      "1. ggplot.function(df, aes(x = x, y = y))",
      "2. cli::cli_abort(c(\"{.arg data} cannot be a function.\", i = \"Have you misspelled the {.arg data} argument in {.fn ggplot}\"))",
      "3. rlang::abort(message, ..., call = call, use_cli_format = TRUE, \n .     .frame = .frame)",
      "4. signal_abort(cnd, .file)",
      "5. signalCondition(cnd)"
     ]
    }
   ],
   "source": [
    "ggplot(df, aes(x = x, y = y)) +\n",
    "  geom_point() +\n",
    "  geom_smooth(method = \"lm\", se = FALSE, color = \"red\") +\n",
    "  annotate(\"text\", x = 1.5, y = max(df$y) - 0.5,\n",
    "           label = paste(\"y =\", round(slope, 2), \"x +\", round(intercept, 2),\n",
    "                         \"\\nr =\", round(r, 2), \"\\nMSE =\", round(mse, 2)),\n",
    "           size = 4) +\n",
    "  labs(title = \"Linear Fit\",\n",
    "       x = \"x\", y = \"y\") +\n",
    "  theme_minimal()\n",
    "\n",
    "ggsave(\"regression_plot_r.png\")"
   ]
  },
  {
   "cell_type": "code",
   "execution_count": 4,
   "id": "1c0dc0d5-e6c7-4e0f-a445-508cf7aec506",
   "metadata": {},
   "outputs": [
    {
     "ename": "ERROR",
     "evalue": "Error: object 'model' not found\n",
     "output_type": "error",
     "traceback": [
      "Error: object 'model' not found\nTraceback:\n",
      "1. .handleSimpleError(function (cnd) \n . {\n .     watcher$capture_plot_and_output()\n .     cnd <- sanitize_call(cnd)\n .     watcher$push(cnd)\n .     switch(on_error, continue = invokeRestart(\"eval_continue\"), \n .         stop = invokeRestart(\"eval_stop\"), error = NULL)\n . }, \"object 'model' not found\", base::quote(eval(expr, envir)))"
     ]
    }
   ],
   "source": [
    "summary(model)"
   ]
  },
  {
   "cell_type": "code",
   "execution_count": null,
   "id": "72a1313f-9020-428d-abce-6870d628f71d",
   "metadata": {},
   "outputs": [],
   "source": []
  }
 ],
 "metadata": {
  "kernelspec": {
   "display_name": "R (7030_class_1)",
   "language": "R",
   "name": "ir_7030_class_1"
  },
  "language_info": {
   "codemirror_mode": "r",
   "file_extension": ".r",
   "mimetype": "text/x-r-source",
   "name": "R",
   "pygments_lexer": "r",
   "version": "4.4.3"
  }
 },
 "nbformat": 4,
 "nbformat_minor": 5
}
